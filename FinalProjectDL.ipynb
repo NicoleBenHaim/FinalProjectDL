{
 "cells": [
  {
   "cell_type": "code",
   "execution_count": 282,
   "id": "75b5b212-04df-48dd-acc0-fa6a7c99cb25",
   "metadata": {},
   "outputs": [],
   "source": [
    "import pandas as pd\n",
    "import numpy as np \n",
    "import matplotlib.pyplot as plt\n",
    "import seaborn as sns\n",
    "%matplotlib inline\n",
    "import scipy.stats as stats\n",
    "import math\n",
    "import re\n",
    "from sklearn.model_selection import train_test_split\n",
    "from sklearn.preprocessing import OneHotEncoder\n",
    "from sklearn.preprocessing import StandardScaler\n",
    "import tensorflow as tf\n",
    "from tensorflow.keras.models import Sequential\n",
    "from tensorflow.keras.layers import Dense\n",
    "from sklearn.metrics import accuracy_score"
   ]
  },
  {
   "cell_type": "code",
   "execution_count": null,
   "id": "a5112bbc-30e2-4076-96df-48b052f0384f",
   "metadata": {},
   "outputs": [],
   "source": []
  },
  {
   "cell_type": "code",
   "execution_count": null,
   "id": "18a52a13-6529-4da0-8343-1699ae01e7ba",
   "metadata": {},
   "outputs": [],
   "source": []
  },
  {
   "cell_type": "code",
   "execution_count": 283,
   "id": "d074dbf1-3ccd-4f5b-9bdf-cd768d1c3037",
   "metadata": {},
   "outputs": [],
   "source": [
    "data = pd.read_csv(\"C:\\\\Users\\\\nicol\\\\OneDrive\\\\שולחן העבודה\\\\תעשיה וניהול\\\\תואר שני\\\\שנה א\\\\סמסטר א\\\\שיטות מחקר מתקדמות בייצור ושירות\\\\calc_participant_participation_order.csv\")\n",
    "df=data[data.Scenario.isin(['Spatial'])].reset_index().copy()"
   ]
  },
  {
   "cell_type": "code",
   "execution_count": null,
   "id": "34396ac8-b316-4c2c-b5b0-68fdf48d3c19",
   "metadata": {},
   "outputs": [],
   "source": []
  },
  {
   "cell_type": "markdown",
   "id": "48071050-9e05-465c-8076-25ac9863c3c3",
   "metadata": {},
   "source": [
    "------------"
   ]
  },
  {
   "cell_type": "markdown",
   "id": "c4323569-2779-4aa7-8337-06878ca5da43",
   "metadata": {},
   "source": [
    "### Information about the data (befor selection and cleaning)"
   ]
  },
  {
   "cell_type": "code",
   "execution_count": 284,
   "id": "9eb7d781-ef0b-4ab5-a260-d75e1168da35",
   "metadata": {},
   "outputs": [
    {
     "data": {
      "text/plain": [
       "(439, 239)"
      ]
     },
     "execution_count": 284,
     "metadata": {},
     "output_type": "execute_result"
    }
   ],
   "source": [
    "df.shape"
   ]
  },
  {
   "cell_type": "code",
   "execution_count": 285,
   "id": "5291691f-ac03-477a-ae14-685fbb667bc9",
   "metadata": {},
   "outputs": [
    {
     "data": {
      "text/html": [
       "<div>\n",
       "<style scoped>\n",
       "    .dataframe tbody tr th:only-of-type {\n",
       "        vertical-align: middle;\n",
       "    }\n",
       "\n",
       "    .dataframe tbody tr th {\n",
       "        vertical-align: top;\n",
       "    }\n",
       "\n",
       "    .dataframe thead th {\n",
       "        text-align: right;\n",
       "    }\n",
       "</style>\n",
       "<table border=\"1\" class=\"dataframe\">\n",
       "  <thead>\n",
       "    <tr style=\"text-align: right;\">\n",
       "      <th></th>\n",
       "      <th>index</th>\n",
       "      <th>Id</th>\n",
       "      <th>Scenario</th>\n",
       "      <th>Condition</th>\n",
       "      <th>triggered_by</th>\n",
       "      <th>WorldTime</th>\n",
       "      <th>TerminationTime</th>\n",
       "      <th>Samples</th>\n",
       "      <th>Duration</th>\n",
       "      <th>WithinScenarioOrder</th>\n",
       "      <th>...</th>\n",
       "      <th>Semantic</th>\n",
       "      <th>TTC</th>\n",
       "      <th>Latency</th>\n",
       "      <th>Informative</th>\n",
       "      <th>CommonFace</th>\n",
       "      <th>CommonColor</th>\n",
       "      <th>Mood</th>\n",
       "      <th>Fatigue</th>\n",
       "      <th>PreferredInterface</th>\n",
       "      <th>EffectiveInterfaceForSafeDriving</th>\n",
       "    </tr>\n",
       "  </thead>\n",
       "  <tbody>\n",
       "    <tr>\n",
       "      <th>0</th>\n",
       "      <td>9</td>\n",
       "      <td>A1_012594</td>\n",
       "      <td>Spatial</td>\n",
       "      <td>Allocentric</td>\n",
       "      <td>Egocar</td>\n",
       "      <td>1900-01-01 11:34:18</td>\n",
       "      <td>1900-01-01 11:38:55</td>\n",
       "      <td>4677.0</td>\n",
       "      <td>277.0</td>\n",
       "      <td>2.0</td>\n",
       "      <td>...</td>\n",
       "      <td>NaN</td>\n",
       "      <td>NaN</td>\n",
       "      <td>NaN</td>\n",
       "      <td>NaN</td>\n",
       "      <td>NaN</td>\n",
       "      <td>NaN</td>\n",
       "      <td>NaN</td>\n",
       "      <td>NaN</td>\n",
       "      <td>NaN</td>\n",
       "      <td>NaN</td>\n",
       "    </tr>\n",
       "    <tr>\n",
       "      <th>1</th>\n",
       "      <td>10</td>\n",
       "      <td>A1_012594</td>\n",
       "      <td>Spatial</td>\n",
       "      <td>Egocentric</td>\n",
       "      <td>Egocar</td>\n",
       "      <td>1900-01-01 11:24:42</td>\n",
       "      <td>1900-01-01 11:30:06</td>\n",
       "      <td>5313.0</td>\n",
       "      <td>324.0</td>\n",
       "      <td>1.0</td>\n",
       "      <td>...</td>\n",
       "      <td>NaN</td>\n",
       "      <td>NaN</td>\n",
       "      <td>NaN</td>\n",
       "      <td>NaN</td>\n",
       "      <td>NaN</td>\n",
       "      <td>NaN</td>\n",
       "      <td>NaN</td>\n",
       "      <td>NaN</td>\n",
       "      <td>NaN</td>\n",
       "      <td>NaN</td>\n",
       "    </tr>\n",
       "    <tr>\n",
       "      <th>2</th>\n",
       "      <td>21</td>\n",
       "      <td>A1_018183</td>\n",
       "      <td>Spatial</td>\n",
       "      <td>Allocentric</td>\n",
       "      <td>Egocar</td>\n",
       "      <td>1900-01-01 11:49:29</td>\n",
       "      <td>1900-01-01 11:53:31</td>\n",
       "      <td>4473.0</td>\n",
       "      <td>242.0</td>\n",
       "      <td>2.0</td>\n",
       "      <td>...</td>\n",
       "      <td>NaN</td>\n",
       "      <td>NaN</td>\n",
       "      <td>NaN</td>\n",
       "      <td>NaN</td>\n",
       "      <td>NaN</td>\n",
       "      <td>NaN</td>\n",
       "      <td>NaN</td>\n",
       "      <td>NaN</td>\n",
       "      <td>NaN</td>\n",
       "      <td>NaN</td>\n",
       "    </tr>\n",
       "    <tr>\n",
       "      <th>3</th>\n",
       "      <td>22</td>\n",
       "      <td>A1_018183</td>\n",
       "      <td>Spatial</td>\n",
       "      <td>Egocentric</td>\n",
       "      <td>Egocar</td>\n",
       "      <td>1900-01-01 11:38:32</td>\n",
       "      <td>1900-01-01 11:43:47</td>\n",
       "      <td>5624.0</td>\n",
       "      <td>315.0</td>\n",
       "      <td>1.0</td>\n",
       "      <td>...</td>\n",
       "      <td>NaN</td>\n",
       "      <td>NaN</td>\n",
       "      <td>NaN</td>\n",
       "      <td>NaN</td>\n",
       "      <td>NaN</td>\n",
       "      <td>NaN</td>\n",
       "      <td>NaN</td>\n",
       "      <td>NaN</td>\n",
       "      <td>NaN</td>\n",
       "      <td>NaN</td>\n",
       "    </tr>\n",
       "    <tr>\n",
       "      <th>4</th>\n",
       "      <td>42</td>\n",
       "      <td>A1_036689</td>\n",
       "      <td>Spatial</td>\n",
       "      <td>Allocentric</td>\n",
       "      <td>Egocar</td>\n",
       "      <td>1900-01-01 15:28:05</td>\n",
       "      <td>1900-01-01 15:32:04</td>\n",
       "      <td>4397.0</td>\n",
       "      <td>239.0</td>\n",
       "      <td>2.0</td>\n",
       "      <td>...</td>\n",
       "      <td>NaN</td>\n",
       "      <td>NaN</td>\n",
       "      <td>NaN</td>\n",
       "      <td>NaN</td>\n",
       "      <td>NaN</td>\n",
       "      <td>NaN</td>\n",
       "      <td>NaN</td>\n",
       "      <td>NaN</td>\n",
       "      <td>NaN</td>\n",
       "      <td>NaN</td>\n",
       "    </tr>\n",
       "    <tr>\n",
       "      <th>...</th>\n",
       "      <td>...</td>\n",
       "      <td>...</td>\n",
       "      <td>...</td>\n",
       "      <td>...</td>\n",
       "      <td>...</td>\n",
       "      <td>...</td>\n",
       "      <td>...</td>\n",
       "      <td>...</td>\n",
       "      <td>...</td>\n",
       "      <td>...</td>\n",
       "      <td>...</td>\n",
       "      <td>...</td>\n",
       "      <td>...</td>\n",
       "      <td>...</td>\n",
       "      <td>...</td>\n",
       "      <td>...</td>\n",
       "      <td>...</td>\n",
       "      <td>...</td>\n",
       "      <td>...</td>\n",
       "      <td>...</td>\n",
       "      <td>...</td>\n",
       "    </tr>\n",
       "    <tr>\n",
       "      <th>434</th>\n",
       "      <td>2627</td>\n",
       "      <td>A6_557781</td>\n",
       "      <td>Spatial</td>\n",
       "      <td>Allocentric</td>\n",
       "      <td>Egocar</td>\n",
       "      <td>1900-01-01 13:19:47</td>\n",
       "      <td>1900-01-01 13:22:23</td>\n",
       "      <td>954.0</td>\n",
       "      <td>156.0</td>\n",
       "      <td>1.0</td>\n",
       "      <td>...</td>\n",
       "      <td>NaN</td>\n",
       "      <td>NaN</td>\n",
       "      <td>NaN</td>\n",
       "      <td>NaN</td>\n",
       "      <td>NaN</td>\n",
       "      <td>NaN</td>\n",
       "      <td>NaN</td>\n",
       "      <td>NaN</td>\n",
       "      <td>NaN</td>\n",
       "      <td>NaN</td>\n",
       "    </tr>\n",
       "    <tr>\n",
       "      <th>435</th>\n",
       "      <td>2633</td>\n",
       "      <td>A6_563247</td>\n",
       "      <td>Spatial</td>\n",
       "      <td>Allocentric</td>\n",
       "      <td>Egocar</td>\n",
       "      <td>1900-01-01 15:28:37</td>\n",
       "      <td>1900-01-01 15:35:57</td>\n",
       "      <td>7792.0</td>\n",
       "      <td>440.0</td>\n",
       "      <td>1.0</td>\n",
       "      <td>...</td>\n",
       "      <td>NaN</td>\n",
       "      <td>NaN</td>\n",
       "      <td>NaN</td>\n",
       "      <td>NaN</td>\n",
       "      <td>NaN</td>\n",
       "      <td>NaN</td>\n",
       "      <td>NaN</td>\n",
       "      <td>NaN</td>\n",
       "      <td>NaN</td>\n",
       "      <td>NaN</td>\n",
       "    </tr>\n",
       "    <tr>\n",
       "      <th>436</th>\n",
       "      <td>2634</td>\n",
       "      <td>A6_563247</td>\n",
       "      <td>Spatial</td>\n",
       "      <td>Egocentric</td>\n",
       "      <td>Egocar</td>\n",
       "      <td>1900-01-01 15:43:27</td>\n",
       "      <td>1900-01-01 15:48:44</td>\n",
       "      <td>6256.0</td>\n",
       "      <td>317.0</td>\n",
       "      <td>2.0</td>\n",
       "      <td>...</td>\n",
       "      <td>NaN</td>\n",
       "      <td>NaN</td>\n",
       "      <td>NaN</td>\n",
       "      <td>NaN</td>\n",
       "      <td>NaN</td>\n",
       "      <td>NaN</td>\n",
       "      <td>NaN</td>\n",
       "      <td>NaN</td>\n",
       "      <td>NaN</td>\n",
       "      <td>NaN</td>\n",
       "    </tr>\n",
       "    <tr>\n",
       "      <th>437</th>\n",
       "      <td>2640</td>\n",
       "      <td>A6_569604</td>\n",
       "      <td>Spatial</td>\n",
       "      <td>Allocentric</td>\n",
       "      <td>Egocar</td>\n",
       "      <td>1900-01-01 12:54:13</td>\n",
       "      <td>1900-01-01 12:59:28</td>\n",
       "      <td>5580.0</td>\n",
       "      <td>315.0</td>\n",
       "      <td>1.0</td>\n",
       "      <td>...</td>\n",
       "      <td>NaN</td>\n",
       "      <td>NaN</td>\n",
       "      <td>NaN</td>\n",
       "      <td>NaN</td>\n",
       "      <td>NaN</td>\n",
       "      <td>NaN</td>\n",
       "      <td>NaN</td>\n",
       "      <td>NaN</td>\n",
       "      <td>NaN</td>\n",
       "      <td>NaN</td>\n",
       "    </tr>\n",
       "    <tr>\n",
       "      <th>438</th>\n",
       "      <td>2641</td>\n",
       "      <td>A6_569604</td>\n",
       "      <td>Spatial</td>\n",
       "      <td>Egocentric</td>\n",
       "      <td>Egocar</td>\n",
       "      <td>1900-01-01 13:06:28</td>\n",
       "      <td>1900-01-01 13:08:31</td>\n",
       "      <td>2471.0</td>\n",
       "      <td>123.0</td>\n",
       "      <td>2.0</td>\n",
       "      <td>...</td>\n",
       "      <td>NaN</td>\n",
       "      <td>NaN</td>\n",
       "      <td>NaN</td>\n",
       "      <td>NaN</td>\n",
       "      <td>NaN</td>\n",
       "      <td>NaN</td>\n",
       "      <td>NaN</td>\n",
       "      <td>NaN</td>\n",
       "      <td>NaN</td>\n",
       "      <td>NaN</td>\n",
       "    </tr>\n",
       "  </tbody>\n",
       "</table>\n",
       "<p>439 rows × 239 columns</p>\n",
       "</div>"
      ],
      "text/plain": [
       "     index         Id Scenario    Condition triggered_by            WorldTime  \\\n",
       "0        9  A1_012594  Spatial  Allocentric       Egocar  1900-01-01 11:34:18   \n",
       "1       10  A1_012594  Spatial   Egocentric       Egocar  1900-01-01 11:24:42   \n",
       "2       21  A1_018183  Spatial  Allocentric       Egocar  1900-01-01 11:49:29   \n",
       "3       22  A1_018183  Spatial   Egocentric       Egocar  1900-01-01 11:38:32   \n",
       "4       42  A1_036689  Spatial  Allocentric       Egocar  1900-01-01 15:28:05   \n",
       "..     ...        ...      ...          ...          ...                  ...   \n",
       "434   2627  A6_557781  Spatial  Allocentric       Egocar  1900-01-01 13:19:47   \n",
       "435   2633  A6_563247  Spatial  Allocentric       Egocar  1900-01-01 15:28:37   \n",
       "436   2634  A6_563247  Spatial   Egocentric       Egocar  1900-01-01 15:43:27   \n",
       "437   2640  A6_569604  Spatial  Allocentric       Egocar  1900-01-01 12:54:13   \n",
       "438   2641  A6_569604  Spatial   Egocentric       Egocar  1900-01-01 13:06:28   \n",
       "\n",
       "         TerminationTime  Samples  Duration  WithinScenarioOrder  ...  \\\n",
       "0    1900-01-01 11:38:55   4677.0     277.0                  2.0  ...   \n",
       "1    1900-01-01 11:30:06   5313.0     324.0                  1.0  ...   \n",
       "2    1900-01-01 11:53:31   4473.0     242.0                  2.0  ...   \n",
       "3    1900-01-01 11:43:47   5624.0     315.0                  1.0  ...   \n",
       "4    1900-01-01 15:32:04   4397.0     239.0                  2.0  ...   \n",
       "..                   ...      ...       ...                  ...  ...   \n",
       "434  1900-01-01 13:22:23    954.0     156.0                  1.0  ...   \n",
       "435  1900-01-01 15:35:57   7792.0     440.0                  1.0  ...   \n",
       "436  1900-01-01 15:48:44   6256.0     317.0                  2.0  ...   \n",
       "437  1900-01-01 12:59:28   5580.0     315.0                  1.0  ...   \n",
       "438  1900-01-01 13:08:31   2471.0     123.0                  2.0  ...   \n",
       "\n",
       "     Semantic  TTC  Latency  Informative CommonFace  CommonColor  Mood  \\\n",
       "0         NaN  NaN      NaN          NaN        NaN          NaN   NaN   \n",
       "1         NaN  NaN      NaN          NaN        NaN          NaN   NaN   \n",
       "2         NaN  NaN      NaN          NaN        NaN          NaN   NaN   \n",
       "3         NaN  NaN      NaN          NaN        NaN          NaN   NaN   \n",
       "4         NaN  NaN      NaN          NaN        NaN          NaN   NaN   \n",
       "..        ...  ...      ...          ...        ...          ...   ...   \n",
       "434       NaN  NaN      NaN          NaN        NaN          NaN   NaN   \n",
       "435       NaN  NaN      NaN          NaN        NaN          NaN   NaN   \n",
       "436       NaN  NaN      NaN          NaN        NaN          NaN   NaN   \n",
       "437       NaN  NaN      NaN          NaN        NaN          NaN   NaN   \n",
       "438       NaN  NaN      NaN          NaN        NaN          NaN   NaN   \n",
       "\n",
       "     Fatigue  PreferredInterface  EffectiveInterfaceForSafeDriving  \n",
       "0        NaN                 NaN                               NaN  \n",
       "1        NaN                 NaN                               NaN  \n",
       "2        NaN                 NaN                               NaN  \n",
       "3        NaN                 NaN                               NaN  \n",
       "4        NaN                 NaN                               NaN  \n",
       "..       ...                 ...                               ...  \n",
       "434      NaN                 NaN                               NaN  \n",
       "435      NaN                 NaN                               NaN  \n",
       "436      NaN                 NaN                               NaN  \n",
       "437      NaN                 NaN                               NaN  \n",
       "438      NaN                 NaN                               NaN  \n",
       "\n",
       "[439 rows x 239 columns]"
      ]
     },
     "execution_count": 285,
     "metadata": {},
     "output_type": "execute_result"
    }
   ],
   "source": [
    "df"
   ]
  },
  {
   "cell_type": "code",
   "execution_count": 286,
   "id": "53897d06-0c42-4383-b8d7-d5f72c6a3da8",
   "metadata": {},
   "outputs": [
    {
     "data": {
      "text/plain": [
       "['index',\n",
       " 'Id',\n",
       " 'Scenario',\n",
       " 'Condition',\n",
       " 'triggered_by',\n",
       " 'WorldTime',\n",
       " 'TerminationTime',\n",
       " 'Samples',\n",
       " 'Duration',\n",
       " 'WithinScenarioOrder',\n",
       " 'WithinIDOrder',\n",
       " 'Reason',\n",
       " 'RealTime',\n",
       " 'Distance_Driven',\n",
       " 'EGOlocAtTermination',\n",
       " 'SimulationTime',\n",
       " 'collision',\n",
       " 'NavigationError',\n",
       " 'ExtreemBrakingEvents',\n",
       " 'NegativeFeedbackEvents',\n",
       " 'Timestamp',\n",
       " 'Mental Demand',\n",
       " 'Physical Demand',\n",
       " 'Temporal Demand',\n",
       " 'Performance',\n",
       " 'Effort',\n",
       " 'Frustration',\n",
       " 'Performance (reverse)',\n",
       " 'NASATlx.Overall',\n",
       " 'right_order',\n",
       " 'ECG_Quality.mean',\n",
       " 'ECG_Quality.quantile.80',\n",
       " 'ECG_Quality.quantile.90',\n",
       " 'ECG_Quality.quantile.95',\n",
       " 'ECG_Quality.std',\n",
       " 'ECG_Rate.max',\n",
       " 'ECG_Rate.mean',\n",
       " 'ECG_Rate.quantile.85',\n",
       " 'ECG_Rate.std',\n",
       " 'ECG_Rate_Mean.max',\n",
       " 'ECG_Rate_Mean.mean',\n",
       " 'ECG_Rate_Mean.quantile.85',\n",
       " 'ECG_Rate_Mean.std',\n",
       " 'EDA_Phasic.max',\n",
       " 'EDA_Phasic.mean',\n",
       " 'EDA_Phasic.quantile.85',\n",
       " 'EDA_Phasic.std',\n",
       " 'EDA_Tonic.max',\n",
       " 'EDA_Tonic.mean',\n",
       " 'EDA_Tonic.quantile.85',\n",
       " 'EDA_Tonic.std',\n",
       " 'HRV_HF.max',\n",
       " 'HRV_HF.mean',\n",
       " 'HRV_HF.quantile.85',\n",
       " 'HRV_HF.std',\n",
       " 'HRV_LF.max',\n",
       " 'HRV_LF.mean',\n",
       " 'HRV_LF.quantile.85',\n",
       " 'HRV_LF.std',\n",
       " 'HRV_SDNN.max',\n",
       " 'HRV_SDNN.mean',\n",
       " 'HRV_SDNN.quantile.85',\n",
       " 'HRV_SDNN.std',\n",
       " 'PupilDiameter.max',\n",
       " 'PupilDiameter.mean',\n",
       " 'PupilDiameter.quantile.85',\n",
       " 'PupilDiameter.std',\n",
       " 'SCR_Events.max',\n",
       " 'SCR_Events.mean',\n",
       " 'SCR_Events.quantile.85',\n",
       " 'SCR_Events.std',\n",
       " 'Theta1.max',\n",
       " 'Theta1.mean',\n",
       " 'Theta1.quantile.85',\n",
       " 'Theta1.std',\n",
       " 'Alpha1.max',\n",
       " 'Alpha1.mean',\n",
       " 'Alpha1.quantile.85',\n",
       " 'Alpha1.std',\n",
       " 'Beta1.max',\n",
       " 'Beta1.mean',\n",
       " 'Beta1.quantile.85',\n",
       " 'Beta1.std',\n",
       " 'Theta2.max',\n",
       " 'Theta2.mean',\n",
       " 'Theta2.quantile.85',\n",
       " 'Theta2.std',\n",
       " 'Alpha2.max',\n",
       " 'Alpha2.mean',\n",
       " 'Alpha2.quantile.85',\n",
       " 'Alpha2.std',\n",
       " 'Beta2.max',\n",
       " 'Beta2.mean',\n",
       " 'Beta2.quantile.85',\n",
       " 'Beta2.std',\n",
       " 'Theta3.max',\n",
       " 'Theta3.mean',\n",
       " 'Theta3.quantile.85',\n",
       " 'Theta3.std',\n",
       " 'Alpha3.max',\n",
       " 'Alpha3.mean',\n",
       " 'Alpha3.quantile.85',\n",
       " 'Alpha3.std',\n",
       " 'Beta3.max',\n",
       " 'Beta3.mean',\n",
       " 'Beta3.quantile.85',\n",
       " 'Beta3.std',\n",
       " 'Theta4.max',\n",
       " 'Theta4.mean',\n",
       " 'Theta4.quantile.85',\n",
       " 'Theta4.std',\n",
       " 'Alpha4.max',\n",
       " 'Alpha4.mean',\n",
       " 'Alpha4.quantile.85',\n",
       " 'Alpha4.std',\n",
       " 'Beta4.max',\n",
       " 'Beta4.mean',\n",
       " 'Beta4.quantile.85',\n",
       " 'Beta4.std',\n",
       " 'Theta5.max',\n",
       " 'Theta5.mean',\n",
       " 'Theta5.quantile.85',\n",
       " 'Theta5.std',\n",
       " 'Alpha5.max',\n",
       " 'Alpha5.mean',\n",
       " 'Alpha5.quantile.85',\n",
       " 'Alpha5.std',\n",
       " 'Beta5.max',\n",
       " 'Beta5.mean',\n",
       " 'Beta5.quantile.85',\n",
       " 'Beta5.std',\n",
       " 'Theta6.max',\n",
       " 'Theta6.mean',\n",
       " 'Theta6.quantile.85',\n",
       " 'Theta6.std',\n",
       " 'Alpha6.max',\n",
       " 'Alpha6.mean',\n",
       " 'Alpha6.quantile.85',\n",
       " 'Alpha6.std',\n",
       " 'Beta6.max',\n",
       " 'Beta6.mean',\n",
       " 'Beta6.quantile.85',\n",
       " 'Beta6.std',\n",
       " 'Theta7.max',\n",
       " 'Theta7.mean',\n",
       " 'Theta7.quantile.85',\n",
       " 'Theta7.std',\n",
       " 'Alpha7.max',\n",
       " 'Alpha7.mean',\n",
       " 'Alpha7.quantile.85',\n",
       " 'Alpha7.std',\n",
       " 'Beta7.max',\n",
       " 'Beta7.mean',\n",
       " 'Beta7.quantile.85',\n",
       " 'Beta7.std',\n",
       " 'Theta8.max',\n",
       " 'Theta8.mean',\n",
       " 'Theta8.quantile.85',\n",
       " 'Theta8.std',\n",
       " 'Alpha8.max',\n",
       " 'Alpha8.mean',\n",
       " 'Alpha8.quantile.85',\n",
       " 'Alpha8.std',\n",
       " 'Beta8.max',\n",
       " 'Beta8.mean',\n",
       " 'Beta8.quantile.85',\n",
       " 'Beta8.std',\n",
       " 'Theta9.max',\n",
       " 'Theta9.mean',\n",
       " 'Theta9.quantile.85',\n",
       " 'Theta9.std',\n",
       " 'Alpha9.max',\n",
       " 'Alpha9.mean',\n",
       " 'Alpha9.quantile.85',\n",
       " 'Alpha9.std',\n",
       " 'Beta9.max',\n",
       " 'Beta9.mean',\n",
       " 'Beta9.quantile.85',\n",
       " 'Beta9.std',\n",
       " 'Theta10.max',\n",
       " 'Theta10.mean',\n",
       " 'Theta10.quantile.85',\n",
       " 'Theta10.std',\n",
       " 'Alpha10.max',\n",
       " 'Alpha10.mean',\n",
       " 'Alpha10.quantile.85',\n",
       " 'Alpha10.std',\n",
       " 'Beta10.max',\n",
       " 'Beta10.mean',\n",
       " 'Beta10.quantile.85',\n",
       " 'Beta10.std',\n",
       " 'Theta11.max',\n",
       " 'Theta11.mean',\n",
       " 'Theta11.quantile.85',\n",
       " 'Theta11.std',\n",
       " 'Alpha11.max',\n",
       " 'Alpha11.mean',\n",
       " 'Alpha11.quantile.85',\n",
       " 'Alpha11.std',\n",
       " 'Beta11.max',\n",
       " 'Beta11.mean',\n",
       " 'Beta11.quantile.85',\n",
       " 'Beta11.std',\n",
       " 'Theta12.max',\n",
       " 'Theta12.mean',\n",
       " 'Theta12.quantile.85',\n",
       " 'Theta12.std',\n",
       " 'Alpha12.max',\n",
       " 'Alpha12.mean',\n",
       " 'Alpha12.quantile.85',\n",
       " 'Alpha12.std',\n",
       " 'Beta12.max',\n",
       " 'Beta12.mean',\n",
       " 'Beta12.quantile.85',\n",
       " 'Beta12.std',\n",
       " 'Age',\n",
       " 'Gender',\n",
       " 'status',\n",
       " 'experience simulator',\n",
       " 'license years',\n",
       " 'experience computer games',\n",
       " 'accident non-keeping distance',\n",
       " 'number of times',\n",
       " 'technologies life easier',\n",
       " 'understand technology',\n",
       " 'enjoy understanding technology',\n",
       " 'experience simulator.1',\n",
       " 'FamilyStatus',\n",
       " 'Income',\n",
       " 'Semantic',\n",
       " 'TTC',\n",
       " 'Latency',\n",
       " 'Informative',\n",
       " 'CommonFace',\n",
       " 'CommonColor',\n",
       " 'Mood',\n",
       " 'Fatigue',\n",
       " 'PreferredInterface',\n",
       " 'EffectiveInterfaceForSafeDriving']"
      ]
     },
     "execution_count": 286,
     "metadata": {},
     "output_type": "execute_result"
    }
   ],
   "source": [
    "df.columns.tolist()"
   ]
  },
  {
   "cell_type": "code",
   "execution_count": 287,
   "id": "d2008f15-f363-472c-a5ee-4179365ed4d7",
   "metadata": {},
   "outputs": [
    {
     "name": "stdout",
     "output_type": "stream",
     "text": [
      "<class 'pandas.core.frame.DataFrame'>\n",
      "RangeIndex: 439 entries, 0 to 438\n",
      "Columns: 239 entries, index to EffectiveInterfaceForSafeDriving\n",
      "dtypes: float64(214), int64(1), object(24)\n",
      "memory usage: 819.8+ KB\n"
     ]
    }
   ],
   "source": [
    "df.info()"
   ]
  },
  {
   "cell_type": "code",
   "execution_count": null,
   "id": "59c09af0-e410-4595-9fc0-25717edf1a3e",
   "metadata": {},
   "outputs": [],
   "source": []
  },
  {
   "cell_type": "markdown",
   "id": "bcdf1bd9-370b-4b29-a9ea-b2d4e35e7d7e",
   "metadata": {},
   "source": [
    "------------"
   ]
  },
  {
   "cell_type": "markdown",
   "id": "88d95604-5447-4f1e-8bf7-dc0e82e97a5b",
   "metadata": {},
   "source": [
    "### Creating my data- "
   ]
  },
  {
   "cell_type": "markdown",
   "id": "926a15cb-3e6d-423a-be6c-75ef37aaa57c",
   "metadata": {},
   "source": [
    "#### removing rows with a missing dependent value and selecting features"
   ]
  },
  {
   "cell_type": "code",
   "execution_count": 288,
   "id": "40b82d16-443d-4b3a-8e87-1a51af9d79b2",
   "metadata": {},
   "outputs": [],
   "source": [
    "# From the 'EGOlocAtTermination' column we will create the prediction column (y)\n",
    "df = df.dropna(subset=['EGOlocAtTermination'])"
   ]
  },
  {
   "cell_type": "code",
   "execution_count": 289,
   "id": "59acc2c1-e364-4ee3-9185-15aa15e33a38",
   "metadata": {},
   "outputs": [],
   "source": [
    "# The features of the demographic questionnaire and features that I want to explore further\n",
    "df=df[['Id','Scenario','Condition','WithinScenarioOrder','EGOlocAtTermination',\n",
    "      'Age','Gender',\n",
    " 'status',\n",
    " 'experience simulator',\n",
    " 'license years',\n",
    " 'experience computer games',\n",
    " 'accident non-keeping distance',\n",
    " 'number of times',\n",
    " 'technologies life easier',\n",
    " 'understand technology',\n",
    " 'enjoy understanding technology']]\n",
    " "
   ]
  },
  {
   "cell_type": "code",
   "execution_count": 290,
   "id": "08c3ca8b-0371-4a07-abc1-78b85b17a527",
   "metadata": {},
   "outputs": [
    {
     "data": {
      "text/plain": [
       "(389, 16)"
      ]
     },
     "execution_count": 290,
     "metadata": {},
     "output_type": "execute_result"
    }
   ],
   "source": [
    "df.shape"
   ]
  },
  {
   "cell_type": "code",
   "execution_count": 291,
   "id": "2de6d1d0-9964-4bdb-959d-bd0f456de236",
   "metadata": {},
   "outputs": [
    {
     "name": "stdout",
     "output_type": "stream",
     "text": [
      "<class 'pandas.core.frame.DataFrame'>\n",
      "Index: 389 entries, 0 to 438\n",
      "Data columns (total 16 columns):\n",
      " #   Column                          Non-Null Count  Dtype  \n",
      "---  ------                          --------------  -----  \n",
      " 0   Id                              389 non-null    object \n",
      " 1   Scenario                        389 non-null    object \n",
      " 2   Condition                       389 non-null    object \n",
      " 3   WithinScenarioOrder             389 non-null    float64\n",
      " 4   EGOlocAtTermination             389 non-null    object \n",
      " 5   Age                             381 non-null    float64\n",
      " 6   Gender                          381 non-null    object \n",
      " 7   status                          381 non-null    object \n",
      " 8   experience simulator            381 non-null    object \n",
      " 9   license years                   381 non-null    float64\n",
      " 10  experience computer games       381 non-null    object \n",
      " 11  accident non-keeping distance   381 non-null    object \n",
      " 12  number of times                 381 non-null    object \n",
      " 13  technologies life easier        381 non-null    float64\n",
      " 14  understand technology           381 non-null    float64\n",
      " 15  enjoy understanding technology  381 non-null    float64\n",
      "dtypes: float64(6), object(10)\n",
      "memory usage: 51.7+ KB\n"
     ]
    }
   ],
   "source": [
    "df.info()"
   ]
  },
  {
   "cell_type": "code",
   "execution_count": 292,
   "id": "41213580-445e-48f7-9077-3ed4295c1f15",
   "metadata": {},
   "outputs": [
    {
     "data": {
      "text/html": [
       "<div>\n",
       "<style scoped>\n",
       "    .dataframe tbody tr th:only-of-type {\n",
       "        vertical-align: middle;\n",
       "    }\n",
       "\n",
       "    .dataframe tbody tr th {\n",
       "        vertical-align: top;\n",
       "    }\n",
       "\n",
       "    .dataframe thead th {\n",
       "        text-align: right;\n",
       "    }\n",
       "</style>\n",
       "<table border=\"1\" class=\"dataframe\">\n",
       "  <thead>\n",
       "    <tr style=\"text-align: right;\">\n",
       "      <th></th>\n",
       "      <th>Id</th>\n",
       "      <th>Scenario</th>\n",
       "      <th>Condition</th>\n",
       "      <th>WithinScenarioOrder</th>\n",
       "      <th>EGOlocAtTermination</th>\n",
       "      <th>Age</th>\n",
       "      <th>Gender</th>\n",
       "      <th>status</th>\n",
       "      <th>experience simulator</th>\n",
       "      <th>license years</th>\n",
       "      <th>experience computer games</th>\n",
       "      <th>accident non-keeping distance</th>\n",
       "      <th>number of times</th>\n",
       "      <th>technologies life easier</th>\n",
       "      <th>understand technology</th>\n",
       "      <th>enjoy understanding technology</th>\n",
       "    </tr>\n",
       "  </thead>\n",
       "  <tbody>\n",
       "    <tr>\n",
       "      <th>0</th>\n",
       "      <td>A1_012594</td>\n",
       "      <td>Spatial</td>\n",
       "      <td>Allocentric</td>\n",
       "      <td>2.0</td>\n",
       "      <td>end Right turn into the parking lot</td>\n",
       "      <td>24.0</td>\n",
       "      <td>Male</td>\n",
       "      <td>תואר ראשון - שנה שניה</td>\n",
       "      <td>לא</td>\n",
       "      <td>7.0</td>\n",
       "      <td>לא</td>\n",
       "      <td>לא</td>\n",
       "      <td>0</td>\n",
       "      <td>5.0</td>\n",
       "      <td>4.0</td>\n",
       "      <td>4.0</td>\n",
       "    </tr>\n",
       "    <tr>\n",
       "      <th>1</th>\n",
       "      <td>A1_012594</td>\n",
       "      <td>Spatial</td>\n",
       "      <td>Egocentric</td>\n",
       "      <td>1.0</td>\n",
       "      <td>end Right turn into the parking lot</td>\n",
       "      <td>24.0</td>\n",
       "      <td>Male</td>\n",
       "      <td>תואר ראשון - שנה שניה</td>\n",
       "      <td>לא</td>\n",
       "      <td>7.0</td>\n",
       "      <td>לא</td>\n",
       "      <td>לא</td>\n",
       "      <td>0</td>\n",
       "      <td>5.0</td>\n",
       "      <td>4.0</td>\n",
       "      <td>4.0</td>\n",
       "    </tr>\n",
       "    <tr>\n",
       "      <th>2</th>\n",
       "      <td>A1_018183</td>\n",
       "      <td>Spatial</td>\n",
       "      <td>Allocentric</td>\n",
       "      <td>2.0</td>\n",
       "      <td>end Right turn into the parking lot</td>\n",
       "      <td>24.0</td>\n",
       "      <td>Male</td>\n",
       "      <td>תואר ראשון - שנה שניה</td>\n",
       "      <td>לא</td>\n",
       "      <td>5.0</td>\n",
       "      <td>כן</td>\n",
       "      <td>לא</td>\n",
       "      <td>0</td>\n",
       "      <td>5.0</td>\n",
       "      <td>4.0</td>\n",
       "      <td>5.0</td>\n",
       "    </tr>\n",
       "    <tr>\n",
       "      <th>3</th>\n",
       "      <td>A1_018183</td>\n",
       "      <td>Spatial</td>\n",
       "      <td>Egocentric</td>\n",
       "      <td>1.0</td>\n",
       "      <td>end Right turn into the parking lot</td>\n",
       "      <td>24.0</td>\n",
       "      <td>Male</td>\n",
       "      <td>תואר ראשון - שנה שניה</td>\n",
       "      <td>לא</td>\n",
       "      <td>5.0</td>\n",
       "      <td>כן</td>\n",
       "      <td>לא</td>\n",
       "      <td>0</td>\n",
       "      <td>5.0</td>\n",
       "      <td>4.0</td>\n",
       "      <td>5.0</td>\n",
       "    </tr>\n",
       "    <tr>\n",
       "      <th>4</th>\n",
       "      <td>A1_036689</td>\n",
       "      <td>Spatial</td>\n",
       "      <td>Allocentric</td>\n",
       "      <td>2.0</td>\n",
       "      <td>end Right turn into the parking lot</td>\n",
       "      <td>24.0</td>\n",
       "      <td>Female</td>\n",
       "      <td>תואר ראשון - שנה שניה</td>\n",
       "      <td>לא</td>\n",
       "      <td>6.0</td>\n",
       "      <td>לא</td>\n",
       "      <td>לא</td>\n",
       "      <td>0</td>\n",
       "      <td>4.0</td>\n",
       "      <td>3.0</td>\n",
       "      <td>5.0</td>\n",
       "    </tr>\n",
       "  </tbody>\n",
       "</table>\n",
       "</div>"
      ],
      "text/plain": [
       "          Id Scenario    Condition  WithinScenarioOrder  \\\n",
       "0  A1_012594  Spatial  Allocentric                  2.0   \n",
       "1  A1_012594  Spatial   Egocentric                  1.0   \n",
       "2  A1_018183  Spatial  Allocentric                  2.0   \n",
       "3  A1_018183  Spatial   Egocentric                  1.0   \n",
       "4  A1_036689  Spatial  Allocentric                  2.0   \n",
       "\n",
       "                   EGOlocAtTermination   Age  Gender                 status  \\\n",
       "0  end Right turn into the parking lot  24.0    Male  תואר ראשון - שנה שניה   \n",
       "1  end Right turn into the parking lot  24.0    Male  תואר ראשון - שנה שניה   \n",
       "2  end Right turn into the parking lot  24.0    Male  תואר ראשון - שנה שניה   \n",
       "3  end Right turn into the parking lot  24.0    Male  תואר ראשון - שנה שניה   \n",
       "4  end Right turn into the parking lot  24.0  Female  תואר ראשון - שנה שניה   \n",
       "\n",
       "  experience simulator  license years experience computer games  \\\n",
       "0                   לא            7.0                        לא   \n",
       "1                   לא            7.0                        לא   \n",
       "2                   לא            5.0                        כן   \n",
       "3                   לא            5.0                        כן   \n",
       "4                   לא            6.0                        לא   \n",
       "\n",
       "  accident non-keeping distance number of times  technologies life easier  \\\n",
       "0                            לא               0                       5.0   \n",
       "1                            לא               0                       5.0   \n",
       "2                            לא               0                       5.0   \n",
       "3                            לא               0                       5.0   \n",
       "4                            לא               0                       4.0   \n",
       "\n",
       "   understand technology  enjoy understanding technology  \n",
       "0                    4.0                             4.0  \n",
       "1                    4.0                             4.0  \n",
       "2                    4.0                             5.0  \n",
       "3                    4.0                             5.0  \n",
       "4                    3.0                             5.0  "
      ]
     },
     "execution_count": 292,
     "metadata": {},
     "output_type": "execute_result"
    }
   ],
   "source": [
    "df.head()"
   ]
  },
  {
   "cell_type": "markdown",
   "id": "bbc331cd-c6e6-4ccc-9981-5a3608687736",
   "metadata": {},
   "source": [
    "#### Creating the prediction column (y)"
   ]
  },
  {
   "cell_type": "code",
   "execution_count": 293,
   "id": "d68346c6-d1d7-4cf5-ab9a-c52985b5fa82",
   "metadata": {},
   "outputs": [],
   "source": [
    "# The locations considered as scenario end points\n",
    "end_list = ['end Right turn into the parking lot', 'start Right turn into the parking lot']\n",
    "\n",
    "# True= finish the scenario\n",
    "# False= didn't finish the scenario\n",
    "df['Finished'] = df['EGOlocAtTermination'].isin(end_list)#.astype(int)\n"
   ]
  },
  {
   "cell_type": "code",
   "execution_count": 294,
   "id": "54922aaf-da93-4055-8458-06687afa4c87",
   "metadata": {},
   "outputs": [
    {
     "data": {
      "text/html": [
       "<div>\n",
       "<style scoped>\n",
       "    .dataframe tbody tr th:only-of-type {\n",
       "        vertical-align: middle;\n",
       "    }\n",
       "\n",
       "    .dataframe tbody tr th {\n",
       "        vertical-align: top;\n",
       "    }\n",
       "\n",
       "    .dataframe thead th {\n",
       "        text-align: right;\n",
       "    }\n",
       "</style>\n",
       "<table border=\"1\" class=\"dataframe\">\n",
       "  <thead>\n",
       "    <tr style=\"text-align: right;\">\n",
       "      <th></th>\n",
       "      <th>EGOlocAtTermination</th>\n",
       "      <th>Finished</th>\n",
       "    </tr>\n",
       "  </thead>\n",
       "  <tbody>\n",
       "    <tr>\n",
       "      <th>0</th>\n",
       "      <td>end Right turn into the parking lot</td>\n",
       "      <td>True</td>\n",
       "    </tr>\n",
       "    <tr>\n",
       "      <th>1</th>\n",
       "      <td>end Right turn into the parking lot</td>\n",
       "      <td>True</td>\n",
       "    </tr>\n",
       "    <tr>\n",
       "      <th>2</th>\n",
       "      <td>end Right turn into the parking lot</td>\n",
       "      <td>True</td>\n",
       "    </tr>\n",
       "    <tr>\n",
       "      <th>3</th>\n",
       "      <td>end Right turn into the parking lot</td>\n",
       "      <td>True</td>\n",
       "    </tr>\n",
       "    <tr>\n",
       "      <th>4</th>\n",
       "      <td>end Right turn into the parking lot</td>\n",
       "      <td>True</td>\n",
       "    </tr>\n",
       "    <tr>\n",
       "      <th>...</th>\n",
       "      <td>...</td>\n",
       "      <td>...</td>\n",
       "    </tr>\n",
       "    <tr>\n",
       "      <th>434</th>\n",
       "      <td>end Left turn at an intersection with stop sign 1</td>\n",
       "      <td>False</td>\n",
       "    </tr>\n",
       "    <tr>\n",
       "      <th>435</th>\n",
       "      <td>end Right turn into the parking lot</td>\n",
       "      <td>True</td>\n",
       "    </tr>\n",
       "    <tr>\n",
       "      <th>436</th>\n",
       "      <td>end Right turn into the parking lot</td>\n",
       "      <td>True</td>\n",
       "    </tr>\n",
       "    <tr>\n",
       "      <th>437</th>\n",
       "      <td>end Right turn into the parking lot</td>\n",
       "      <td>True</td>\n",
       "    </tr>\n",
       "    <tr>\n",
       "      <th>438</th>\n",
       "      <td>start Overtaking a vehicle oncoming traffic</td>\n",
       "      <td>False</td>\n",
       "    </tr>\n",
       "  </tbody>\n",
       "</table>\n",
       "<p>389 rows × 2 columns</p>\n",
       "</div>"
      ],
      "text/plain": [
       "                                   EGOlocAtTermination  Finished\n",
       "0                  end Right turn into the parking lot      True\n",
       "1                  end Right turn into the parking lot      True\n",
       "2                  end Right turn into the parking lot      True\n",
       "3                  end Right turn into the parking lot      True\n",
       "4                  end Right turn into the parking lot      True\n",
       "..                                                 ...       ...\n",
       "434  end Left turn at an intersection with stop sign 1     False\n",
       "435                end Right turn into the parking lot      True\n",
       "436                end Right turn into the parking lot      True\n",
       "437                end Right turn into the parking lot      True\n",
       "438        start Overtaking a vehicle oncoming traffic     False\n",
       "\n",
       "[389 rows x 2 columns]"
      ]
     },
     "execution_count": 294,
     "metadata": {},
     "output_type": "execute_result"
    }
   ],
   "source": [
    "# for check\n",
    "df[['EGOlocAtTermination','Finished']]"
   ]
  },
  {
   "cell_type": "code",
   "execution_count": 295,
   "id": "2c7dde38-9f89-49bf-8147-ee54233f6107",
   "metadata": {},
   "outputs": [
    {
     "name": "stdout",
     "output_type": "stream",
     "text": [
      "<class 'pandas.core.frame.DataFrame'>\n",
      "Index: 389 entries, 0 to 438\n",
      "Data columns (total 17 columns):\n",
      " #   Column                          Non-Null Count  Dtype  \n",
      "---  ------                          --------------  -----  \n",
      " 0   Id                              389 non-null    object \n",
      " 1   Scenario                        389 non-null    object \n",
      " 2   Condition                       389 non-null    object \n",
      " 3   WithinScenarioOrder             389 non-null    float64\n",
      " 4   EGOlocAtTermination             389 non-null    object \n",
      " 5   Age                             381 non-null    float64\n",
      " 6   Gender                          381 non-null    object \n",
      " 7   status                          381 non-null    object \n",
      " 8   experience simulator            381 non-null    object \n",
      " 9   license years                   381 non-null    float64\n",
      " 10  experience computer games       381 non-null    object \n",
      " 11  accident non-keeping distance   381 non-null    object \n",
      " 12  number of times                 381 non-null    object \n",
      " 13  technologies life easier        381 non-null    float64\n",
      " 14  understand technology           381 non-null    float64\n",
      " 15  enjoy understanding technology  381 non-null    float64\n",
      " 16  Finished                        389 non-null    bool   \n",
      "dtypes: bool(1), float64(6), object(10)\n",
      "memory usage: 52.0+ KB\n"
     ]
    }
   ],
   "source": [
    "df.info()"
   ]
  },
  {
   "cell_type": "code",
   "execution_count": null,
   "id": "f6fc4f48-b51d-40b9-8840-1d1f5aab8f1c",
   "metadata": {},
   "outputs": [],
   "source": []
  },
  {
   "cell_type": "markdown",
   "id": "dcffbd6d-a37d-4dd6-85f2-5ac541c4eca1",
   "metadata": {},
   "source": [
    "--------------"
   ]
  },
  {
   "cell_type": "markdown",
   "id": "a2bdf483-f389-4f8a-a8eb-6d256aa3e34b",
   "metadata": {},
   "source": [
    "### Preparing the data"
   ]
  },
  {
   "cell_type": "code",
   "execution_count": 296,
   "id": "90693efc-9166-4835-8cb0-0b5af243073e",
   "metadata": {},
   "outputs": [],
   "source": [
    "#df.columns.tolist()"
   ]
  },
  {
   "cell_type": "markdown",
   "id": "d05f4b08-4453-413a-91ff-10f5c08aa831",
   "metadata": {},
   "source": [
    "#### Text processing:\n",
    "\n",
    "[ 'experience simulator' , 'experience computer games' , 'number of times' , 'number of times' , 'accident non-keeping distance' ]"
   ]
  },
  {
   "cell_type": "markdown",
   "id": "e1dc0d36-34c8-4908-b332-ede7f071ba16",
   "metadata": {},
   "source": [
    "'experience simulator' -"
   ]
  },
  {
   "cell_type": "code",
   "execution_count": 297,
   "id": "c5f8c98f-fddb-45c4-8dce-f6b193f3fe96",
   "metadata": {},
   "outputs": [
    {
     "data": {
      "text/plain": [
       "array(['לא', 'לא, אין ניסיון',\n",
       "       'כן, בצבא הביאו לא מעט פעמים סימולטור נהיגה על מנת להמחיש תחושה של נהיגה בשכרות והסחות דעת. ',\n",
       "       nan, 'אין', 'כן, אור ירוק', 'כן. בצבא במספר קורסים מבצעיים',\n",
       "       'כן בתור ילד', 'אין ניסיון'], dtype=object)"
      ]
     },
     "execution_count": 297,
     "metadata": {},
     "output_type": "execute_result"
    }
   ],
   "source": [
    "df['experience simulator'].unique()"
   ]
  },
  {
   "cell_type": "code",
   "execution_count": 298,
   "id": "061c1f6d-78b2-4ed1-850c-50f2c5f86617",
   "metadata": {},
   "outputs": [],
   "source": [
    "def TextTo_Yes1_No0(answer):\n",
    "    if pd.isna(answer): # for NaN values \n",
    "        return 0    \n",
    "    elif 'כן' in str(answer):\n",
    "        return 1\n",
    "    elif answer in ['אין ניסיון', 'אין', 'לא', 'ללא ניסיון','.לא','כמעט ולא', 'לא.','לא, אין ניסיון']:\n",
    "        return 0\n",
    "    else:\n",
    "        return 1\n",
    "    "
   ]
  },
  {
   "cell_type": "code",
   "execution_count": 299,
   "id": "a8680fa0-edd3-4bce-a644-9dc8d760b7d6",
   "metadata": {},
   "outputs": [],
   "source": [
    "df['experience simulator']=df['experience simulator'].apply(TextTo_Yes1_No0)"
   ]
  },
  {
   "cell_type": "code",
   "execution_count": 300,
   "id": "26ab2723-f2a8-4efc-8a84-052229283386",
   "metadata": {},
   "outputs": [
    {
     "data": {
      "text/plain": [
       "array([0, 1], dtype=int64)"
      ]
     },
     "execution_count": 300,
     "metadata": {},
     "output_type": "execute_result"
    }
   ],
   "source": [
    "#Check that we have taken care of all the values\n",
    "df['experience simulator'].unique()"
   ]
  },
  {
   "cell_type": "code",
   "execution_count": null,
   "id": "26050a70-c230-4a39-965e-7cb4f4147d6a",
   "metadata": {},
   "outputs": [],
   "source": []
  },
  {
   "cell_type": "markdown",
   "id": "9c48d4fa-06c9-426d-8748-4621b388fcd4",
   "metadata": {},
   "source": [
    "'experience computer games' -"
   ]
  },
  {
   "cell_type": "code",
   "execution_count": 301,
   "id": "598d877f-9e04-4d4d-a0fd-d62c1b49292b",
   "metadata": {},
   "outputs": [
    {
     "data": {
      "text/plain": [
       "array(['לא', 'כן', 'כן מעט', 'אין ניסיון', 'כן.',\n",
       "       'כן, שנה ניסיון בneed for speed.',\n",
       "       'כן, nfs גם במחשב וגם בקונסולות, אבל ללא הגה. ', nan, 'ניסיון קל',\n",
       "       'כן, כשהייתי קטנה שיחקתי', 'כן need for speed', 'כמעט ולא',\n",
       "       'כן, משחקים בסמארטפון.', 'כן זוהי שאלה כפולה ',\n",
       "       'כן, nned for speed', 'כן שיחקתי בעבר עם הגה חיצוני', '0',\n",
       "       'מעט מאוד', 'כן שיחקתי בNEEDFOR SPEED עם הגה',\n",
       "       'קצת שיחקתי בneed for speed', 'לא.', 'כן... הייתי משחק הרבה כילד',\n",
       "       'יש ניסיון , אם זה משחקי NEEF GOR SPEED , FORZA HOTIZON ',\n",
       "       'כן,שיחקתי בעבר בתור ילד ', 'כן, רק need for speed', 'Gta',\n",
       "       'כן שחקתי מעט ', 'כן ', 'כן כל מיני משחקים אבל אני לא גיימר',\n",
       "       'forza?', 'כן F1 PlayStation', 'כן שיחקתי בXBOX',\n",
       "       'רק בשנות החטיבה/תחילת תיכון', 'GTA', 'מעט כילד',\n",
       "       'כן, מעט משחקים כמו f1 בטלפון (בודדים במהלך השנים)',\n",
       "       'כן, אבל בקטנה ממש', 'כן , שיחקתי קצת בילדות ', 'קצת ממש', 'מעט',\n",
       "       '8', 'מעט נסיון, שיחקתי בעבר כמה פעמים',\n",
       "       'כן, need for speed ו gta בעבר הרחוק', 'אין',\n",
       "       'כן יש ניסיון במספר רחב של משחקי מירוצים למינהם כולל סימולציות',\n",
       "       'כן, יש כמה משחקים במחשב', 'כן, בתור ילד שיחקתי', 'ממש קצת',\n",
       "       'כן, need for speed', 'כן, הרבה', 'מעט, בתור ילד שיחקתי',\n",
       "       'כן, התניסיתי במשחקים האלה בעבר.',\n",
       "       'כן. משחקי נהיגה המדמים נהיגה בכביש, בעיקר במהירויות גבוהות',\n",
       "       'ללא ניסיון', 'כן , שחקתי כל ילדותי '], dtype=object)"
      ]
     },
     "execution_count": 301,
     "metadata": {},
     "output_type": "execute_result"
    }
   ],
   "source": [
    "df['experience computer games'].unique()"
   ]
  },
  {
   "cell_type": "code",
   "execution_count": 302,
   "id": "c92d25a3-8cd1-4be4-baa6-d61cec0f6337",
   "metadata": {},
   "outputs": [],
   "source": [
    "df['experience computer games']=df['experience computer games'].apply(TextTo_Yes1_No0)"
   ]
  },
  {
   "cell_type": "code",
   "execution_count": 303,
   "id": "180db6c2-f505-43dc-9780-b45d7a43bb4a",
   "metadata": {},
   "outputs": [
    {
     "data": {
      "text/plain": [
       "array([0, 1], dtype=int64)"
      ]
     },
     "execution_count": 303,
     "metadata": {},
     "output_type": "execute_result"
    }
   ],
   "source": [
    "#Check that we have taken care of all the values\n",
    "df['experience computer games'].unique()"
   ]
  },
  {
   "cell_type": "code",
   "execution_count": null,
   "id": "2c2360bd-dbeb-440d-a8ac-75da3643f43a",
   "metadata": {},
   "outputs": [],
   "source": []
  },
  {
   "cell_type": "code",
   "execution_count": null,
   "id": "20a069e5-9a9b-4e63-8fb7-c403f50ae874",
   "metadata": {},
   "outputs": [],
   "source": []
  },
  {
   "cell_type": "markdown",
   "id": "c7c1cb4a-9121-4975-9928-2307dcf607ab",
   "metadata": {},
   "source": [
    "'number of times' -"
   ]
  },
  {
   "cell_type": "code",
   "execution_count": 304,
   "id": "bff97489-a476-4dcd-a215-6f2f086a99de",
   "metadata": {},
   "outputs": [
    {
     "data": {
      "text/plain": [
       "array(['0', nan, '1', 'פעם אחת', '2', 'פעמיים', 'לא'], dtype=object)"
      ]
     },
     "execution_count": 304,
     "metadata": {},
     "output_type": "execute_result"
    }
   ],
   "source": [
    "df['number of times'].unique()"
   ]
  },
  {
   "cell_type": "code",
   "execution_count": 305,
   "id": "c38db1d3-21d1-4c25-b039-9302d7b50741",
   "metadata": {},
   "outputs": [],
   "source": [
    "def TextTo_numeric(answer):\n",
    "    if pd.isna(answer) or answer=='לא': # for NaN values \n",
    "        return 0    \n",
    "    elif answer=='פעם אחת':\n",
    "        return 1\n",
    "    elif answer=='פעמיים':\n",
    "        return 2\n",
    "\n",
    "    else:\n",
    "        return int(answer)"
   ]
  },
  {
   "cell_type": "code",
   "execution_count": 306,
   "id": "645727c0-c241-416d-9e54-4789f00ebf4c",
   "metadata": {},
   "outputs": [],
   "source": [
    "df['number of times']=df['number of times'].apply(TextTo_numeric)"
   ]
  },
  {
   "cell_type": "code",
   "execution_count": 307,
   "id": "47b4be62-66a2-42aa-8b31-e99786d541ee",
   "metadata": {},
   "outputs": [
    {
     "data": {
      "text/plain": [
       "array([0, 1, 2], dtype=int64)"
      ]
     },
     "execution_count": 307,
     "metadata": {},
     "output_type": "execute_result"
    }
   ],
   "source": [
    "#Check that we have taken care of all the values\n",
    "df['number of times'].unique()"
   ]
  },
  {
   "cell_type": "code",
   "execution_count": null,
   "id": "0b5d4628-f167-47c8-86d3-a5036bcb87ed",
   "metadata": {},
   "outputs": [],
   "source": []
  },
  {
   "cell_type": "markdown",
   "id": "cccc2718-54da-4066-ad5c-8ebce58745fb",
   "metadata": {},
   "source": [
    "'accident non-keeping distance'-"
   ]
  },
  {
   "cell_type": "code",
   "execution_count": 308,
   "id": "e59c2be3-9841-4d94-8ca4-9e36563a23f3",
   "metadata": {},
   "outputs": [
    {
     "data": {
      "text/plain": [
       "array(['לא', nan, 'כן', 'כן, לא'], dtype=object)"
      ]
     },
     "execution_count": 308,
     "metadata": {},
     "output_type": "execute_result"
    }
   ],
   "source": [
    "df['accident non-keeping distance'].unique()"
   ]
  },
  {
   "cell_type": "code",
   "execution_count": 309,
   "id": "068386fb-458e-4eee-8268-624276a16390",
   "metadata": {},
   "outputs": [],
   "source": [
    "df['accident non-keeping distance'] = df['accident non-keeping distance'].replace({'כן': 1, 'לא': 0})\n",
    "\n",
    "# Remove rows with unclear answer \n",
    "df = df[df['accident non-keeping distance']!='כן, לא']\n",
    "\n",
    "# If they didn't answer, it's probably because they haven't had an accident in the past >> 0\n",
    "df['accident non-keeping distance'].fillna(0, inplace=True)"
   ]
  },
  {
   "cell_type": "code",
   "execution_count": 310,
   "id": "7c037a9d-7356-47ce-b3f8-245fbccc3db1",
   "metadata": {},
   "outputs": [
    {
     "data": {
      "text/plain": [
       "array([0, 1], dtype=int64)"
      ]
     },
     "execution_count": 310,
     "metadata": {},
     "output_type": "execute_result"
    }
   ],
   "source": [
    "#Check that we have taken care of all the values\n",
    "df['accident non-keeping distance'].unique()"
   ]
  },
  {
   "cell_type": "code",
   "execution_count": null,
   "id": "6855a687-4622-4947-819c-842455d39ded",
   "metadata": {},
   "outputs": [],
   "source": []
  },
  {
   "cell_type": "code",
   "execution_count": 311,
   "id": "aece375f-cf1e-4d9d-82b8-dbd98b87dce9",
   "metadata": {},
   "outputs": [],
   "source": [
    "df.dropna(inplace=True)"
   ]
  },
  {
   "cell_type": "code",
   "execution_count": null,
   "id": "fe902327-b430-4fa9-882c-2f8d749e4afa",
   "metadata": {},
   "outputs": [],
   "source": []
  },
  {
   "cell_type": "code",
   "execution_count": 312,
   "id": "c4dc90fc-3dbc-4ca2-94ee-398b39588ad5",
   "metadata": {},
   "outputs": [
    {
     "data": {
      "text/plain": [
       "Id                                0\n",
       "Scenario                          0\n",
       "Condition                         0\n",
       "WithinScenarioOrder               0\n",
       "EGOlocAtTermination               0\n",
       "Age                               0\n",
       "Gender                            0\n",
       "status                            0\n",
       "experience simulator              0\n",
       "license years                     0\n",
       "experience computer games         0\n",
       "accident non-keeping distance     0\n",
       "number of times                   0\n",
       "technologies life easier          0\n",
       "understand technology             0\n",
       "enjoy understanding technology    0\n",
       "Finished                          0\n",
       "dtype: int64"
      ]
     },
     "execution_count": 312,
     "metadata": {},
     "output_type": "execute_result"
    }
   ],
   "source": [
    "df.isnull().sum()"
   ]
  },
  {
   "cell_type": "code",
   "execution_count": 313,
   "id": "327e300a-b516-4566-b03d-6942b7fddb24",
   "metadata": {},
   "outputs": [
    {
     "name": "stdout",
     "output_type": "stream",
     "text": [
      "<class 'pandas.core.frame.DataFrame'>\n",
      "Index: 373 entries, 0 to 438\n",
      "Data columns (total 17 columns):\n",
      " #   Column                          Non-Null Count  Dtype  \n",
      "---  ------                          --------------  -----  \n",
      " 0   Id                              373 non-null    object \n",
      " 1   Scenario                        373 non-null    object \n",
      " 2   Condition                       373 non-null    object \n",
      " 3   WithinScenarioOrder             373 non-null    float64\n",
      " 4   EGOlocAtTermination             373 non-null    object \n",
      " 5   Age                             373 non-null    float64\n",
      " 6   Gender                          373 non-null    object \n",
      " 7   status                          373 non-null    object \n",
      " 8   experience simulator            373 non-null    int64  \n",
      " 9   license years                   373 non-null    float64\n",
      " 10  experience computer games       373 non-null    int64  \n",
      " 11  accident non-keeping distance   373 non-null    int64  \n",
      " 12  number of times                 373 non-null    int64  \n",
      " 13  technologies life easier        373 non-null    float64\n",
      " 14  understand technology           373 non-null    float64\n",
      " 15  enjoy understanding technology  373 non-null    float64\n",
      " 16  Finished                        373 non-null    bool   \n",
      "dtypes: bool(1), float64(6), int64(4), object(6)\n",
      "memory usage: 49.9+ KB\n"
     ]
    }
   ],
   "source": [
    "df.info()"
   ]
  },
  {
   "cell_type": "code",
   "execution_count": 241,
   "id": "a02cbe71-02a9-42f2-a255-33510fc4f4e3",
   "metadata": {},
   "outputs": [
    {
     "data": {
      "text/plain": [
       "(373, 18)"
      ]
     },
     "execution_count": 241,
     "metadata": {},
     "output_type": "execute_result"
    }
   ],
   "source": [
    "df.shape"
   ]
  },
  {
   "cell_type": "markdown",
   "id": "e7bb80ca-bd15-495c-8b1e-180a18088677",
   "metadata": {},
   "source": [
    "--------------------"
   ]
  },
  {
   "cell_type": "markdown",
   "id": "53cb7235-f7bb-42ea-9296-023080b7fa41",
   "metadata": {},
   "source": [
    "## Neural Network"
   ]
  },
  {
   "cell_type": "code",
   "execution_count": 242,
   "id": "a4bb140b-4f47-4f38-9815-d2edec1ff8e9",
   "metadata": {},
   "outputs": [],
   "source": [
    "#pip install tensorflow"
   ]
  },
  {
   "cell_type": "code",
   "execution_count": 243,
   "id": "bca5bbef-458c-4aa7-86fb-259887c81c0e",
   "metadata": {},
   "outputs": [],
   "source": [
    "df_for_model=df.drop(['Id','Scenario', 'Reason','EGOlocAtTermination'], axis=1)"
   ]
  },
  {
   "cell_type": "code",
   "execution_count": 200,
   "id": "1dec4cd5-f7d2-4a4b-baff-616dc2af8358",
   "metadata": {},
   "outputs": [],
   "source": [
    "#df_for_model.columns.tolist()"
   ]
  },
  {
   "cell_type": "code",
   "execution_count": 244,
   "id": "72ca74d5-db99-40a5-b76f-d8ffe040dcec",
   "metadata": {},
   "outputs": [],
   "source": [
    "df_for_model=df_for_model.copy()\n",
    "df_for_model2=df_for_model.copy()"
   ]
  },
  {
   "cell_type": "code",
   "execution_count": 202,
   "id": "9eeef581-bcff-42ad-8354-76aa10230eda",
   "metadata": {},
   "outputs": [
    {
     "name": "stdout",
     "output_type": "stream",
     "text": [
      "Data size: 373\n",
      "Train set size: 238\n",
      "Validation set size: 60\n",
      "Test set size: 75\n",
      "Epoch 1/35\n",
      "12/12 [==============================] - 2s 41ms/step - loss: 0.7749 - accuracy: 0.4832 - val_loss: 0.6752 - val_accuracy: 0.6167\n",
      "Epoch 2/35\n",
      "12/12 [==============================] - 0s 11ms/step - loss: 0.6604 - accuracy: 0.6303 - val_loss: 0.6026 - val_accuracy: 0.7000\n",
      "Epoch 3/35\n",
      "12/12 [==============================] - 0s 11ms/step - loss: 0.6045 - accuracy: 0.7185 - val_loss: 0.5752 - val_accuracy: 0.7000\n",
      "Epoch 4/35\n",
      "12/12 [==============================] - 0s 11ms/step - loss: 0.5840 - accuracy: 0.7479 - val_loss: 0.5580 - val_accuracy: 0.7333\n",
      "Epoch 5/35\n",
      "12/12 [==============================] - 0s 12ms/step - loss: 0.5660 - accuracy: 0.7479 - val_loss: 0.5542 - val_accuracy: 0.7667\n",
      "Epoch 6/35\n",
      "12/12 [==============================] - 0s 12ms/step - loss: 0.5534 - accuracy: 0.7479 - val_loss: 0.5514 - val_accuracy: 0.7667\n",
      "Epoch 7/35\n",
      "12/12 [==============================] - 0s 10ms/step - loss: 0.5427 - accuracy: 0.7605 - val_loss: 0.5495 - val_accuracy: 0.7667\n",
      "Epoch 8/35\n",
      "12/12 [==============================] - 0s 10ms/step - loss: 0.5308 - accuracy: 0.7605 - val_loss: 0.5473 - val_accuracy: 0.7667\n",
      "Epoch 9/35\n",
      "12/12 [==============================] - 0s 12ms/step - loss: 0.5221 - accuracy: 0.7689 - val_loss: 0.5443 - val_accuracy: 0.7667\n",
      "Epoch 10/35\n",
      "12/12 [==============================] - 0s 10ms/step - loss: 0.5142 - accuracy: 0.7689 - val_loss: 0.5430 - val_accuracy: 0.7833\n",
      "Epoch 11/35\n",
      "12/12 [==============================] - 0s 9ms/step - loss: 0.5073 - accuracy: 0.7773 - val_loss: 0.5468 - val_accuracy: 0.7833\n",
      "Epoch 12/35\n",
      "12/12 [==============================] - 0s 11ms/step - loss: 0.4985 - accuracy: 0.7773 - val_loss: 0.5420 - val_accuracy: 0.7833\n",
      "Epoch 13/35\n",
      "12/12 [==============================] - 0s 12ms/step - loss: 0.4929 - accuracy: 0.7815 - val_loss: 0.5454 - val_accuracy: 0.7833\n",
      "Epoch 14/35\n",
      "12/12 [==============================] - 0s 12ms/step - loss: 0.4855 - accuracy: 0.7815 - val_loss: 0.5436 - val_accuracy: 0.7833\n",
      "Epoch 15/35\n",
      "12/12 [==============================] - 0s 9ms/step - loss: 0.4791 - accuracy: 0.7815 - val_loss: 0.5450 - val_accuracy: 0.7833\n",
      "Epoch 16/35\n",
      "12/12 [==============================] - 0s 11ms/step - loss: 0.4721 - accuracy: 0.7773 - val_loss: 0.5475 - val_accuracy: 0.7833\n",
      "Epoch 17/35\n",
      "12/12 [==============================] - 0s 11ms/step - loss: 0.4662 - accuracy: 0.7941 - val_loss: 0.5479 - val_accuracy: 0.7833\n",
      "Epoch 18/35\n",
      "12/12 [==============================] - 0s 12ms/step - loss: 0.4602 - accuracy: 0.7899 - val_loss: 0.5490 - val_accuracy: 0.7833\n",
      "Epoch 19/35\n",
      "12/12 [==============================] - 0s 10ms/step - loss: 0.4555 - accuracy: 0.7899 - val_loss: 0.5521 - val_accuracy: 0.7833\n",
      "Epoch 20/35\n",
      "12/12 [==============================] - 0s 12ms/step - loss: 0.4512 - accuracy: 0.7941 - val_loss: 0.5569 - val_accuracy: 0.7667\n",
      "Epoch 21/35\n",
      "12/12 [==============================] - 0s 10ms/step - loss: 0.4441 - accuracy: 0.7941 - val_loss: 0.5580 - val_accuracy: 0.7833\n",
      "Epoch 22/35\n",
      "12/12 [==============================] - 0s 10ms/step - loss: 0.4387 - accuracy: 0.7941 - val_loss: 0.5578 - val_accuracy: 0.7833\n",
      "Epoch 23/35\n",
      "12/12 [==============================] - 0s 10ms/step - loss: 0.4334 - accuracy: 0.8025 - val_loss: 0.5634 - val_accuracy: 0.7667\n",
      "Epoch 24/35\n",
      "12/12 [==============================] - 0s 11ms/step - loss: 0.4285 - accuracy: 0.8025 - val_loss: 0.5652 - val_accuracy: 0.7667\n",
      "Epoch 25/35\n",
      "12/12 [==============================] - 0s 11ms/step - loss: 0.4244 - accuracy: 0.8025 - val_loss: 0.5649 - val_accuracy: 0.7667\n",
      "Epoch 26/35\n",
      "12/12 [==============================] - 0s 10ms/step - loss: 0.4194 - accuracy: 0.8067 - val_loss: 0.5711 - val_accuracy: 0.7667\n",
      "Epoch 27/35\n",
      "12/12 [==============================] - 0s 11ms/step - loss: 0.4148 - accuracy: 0.8109 - val_loss: 0.5745 - val_accuracy: 0.7500\n",
      "Epoch 28/35\n",
      "12/12 [==============================] - 0s 12ms/step - loss: 0.4104 - accuracy: 0.8109 - val_loss: 0.5775 - val_accuracy: 0.7333\n",
      "Epoch 29/35\n",
      "12/12 [==============================] - 0s 10ms/step - loss: 0.4055 - accuracy: 0.8151 - val_loss: 0.5766 - val_accuracy: 0.7333\n",
      "Epoch 30/35\n",
      "12/12 [==============================] - 0s 10ms/step - loss: 0.4032 - accuracy: 0.8151 - val_loss: 0.5814 - val_accuracy: 0.7167\n",
      "Epoch 31/35\n",
      "12/12 [==============================] - 0s 10ms/step - loss: 0.3974 - accuracy: 0.8193 - val_loss: 0.5847 - val_accuracy: 0.7167\n",
      "Epoch 32/35\n",
      "12/12 [==============================] - 0s 12ms/step - loss: 0.3944 - accuracy: 0.8277 - val_loss: 0.5884 - val_accuracy: 0.7167\n",
      "Epoch 33/35\n",
      "12/12 [==============================] - 0s 10ms/step - loss: 0.3908 - accuracy: 0.8235 - val_loss: 0.5913 - val_accuracy: 0.7167\n",
      "Epoch 34/35\n",
      "12/12 [==============================] - 0s 11ms/step - loss: 0.3850 - accuracy: 0.8277 - val_loss: 0.5964 - val_accuracy: 0.7167\n",
      "Epoch 35/35\n",
      "12/12 [==============================] - 0s 11ms/step - loss: 0.3821 - accuracy: 0.8319 - val_loss: 0.5967 - val_accuracy: 0.7167\n",
      "3/3 [==============================] - 0s 6ms/step\n",
      "Accuracy on the test set: 0.68\n"
     ]
    }
   ],
   "source": [
    "columns_to_encode = ['Gender', 'Condition', 'status']\n",
    "df_for_model = pd.get_dummies(df_for_model, columns=columns_to_encode)\n",
    "\n",
    "y = df_for_model['Finished']\n",
    "X = df_for_model.drop(columns=['Finished'], inplace=False)\n",
    "\n",
    "# Split the data into training and testing sets\n",
    "X_train_val, X_test, y_train_val, y_test = train_test_split(X, y, test_size=0.2, random_state=40)\n",
    "X_train, X_val, y_train, y_val = train_test_split(X_train_val, y_train_val, test_size=0.2, random_state=40)\n",
    "\n",
    "print(\"Data size:\", len(df_for_model))\n",
    "print(f\"Train set size: {len(X_train)}\")\n",
    "print(f\"Validation set size: {len(X_val)}\")\n",
    "print(f\"Test set size: {len(X_test)}\")\n",
    "\n",
    "# Standardize the data\n",
    "scaler = StandardScaler()\n",
    "X_train_scaled = scaler.fit_transform(X_train)\n",
    "X_val_scaled = scaler.transform(X_val)\n",
    "X_test_scaled = scaler.transform(X_test)\n",
    "\n",
    "# Build a simple neural network model\n",
    "model = Sequential([\n",
    "    Dense(32, activation='relu', input_shape=(X_train_scaled.shape[1],)),\n",
    "    Dense(20, activation='relu'),\n",
    "    Dense(1, activation='sigmoid')  # Binary classification output layer\n",
    "])\n",
    "\n",
    "# Compile the model\n",
    "model.compile(optimizer='adam', loss='binary_crossentropy', metrics=['accuracy'])\n",
    "\n",
    "# Train the model\n",
    "history=model.fit(X_train_scaled, y_train, epochs=35, batch_size=20, validation_data=(X_val_scaled, y_val))\n",
    "\n",
    "# Evaluate the model on the test set\n",
    "y_pred = (model.predict(X_test_scaled) > 0.5).astype(int).flatten()\n",
    "accuracy = accuracy_score(y_test, y_pred)\n",
    "print(f\"Accuracy on the test set: {accuracy}\")\n"
   ]
  },
  {
   "cell_type": "code",
   "execution_count": 203,
   "id": "a31ba99d-c128-4cc3-be0f-862e5490e590",
   "metadata": {
    "tags": []
   },
   "outputs": [
    {
     "data": {
      "image/png": "[encoded data removed]",
      "text/plain": [
       "<Figure size 640x480 with 1 Axes>"
      ]
     },
     "metadata": {},
     "output_type": "display_data"
    }
   ],
   "source": [
    "accuracy = history.history[\"accuracy\"]\n",
    "val_accuracy = history.history[\"val_accuracy\"]\n",
    "epochs = range(1, len(accuracy) + 1)\n",
    "plt.figure()\n",
    "plt.plot(epochs, accuracy, \"bo\", label=\"Training accuracy\")\n",
    "plt.plot(epochs, val_accuracy, \"b\", label=\"Validation accuracy\")\n",
    "plt.title(\"Training and validation accuracy\")\n",
    "plt.xlabel(\"Epochs\") \n",
    "plt.ylabel(\"Accuracy\")\n",
    "plt.legend()\n",
    "plt.show()"
   ]
  },
  {
   "cell_type": "code",
   "execution_count": null,
   "id": "a34bf229-cb24-4092-af3b-a43ef37b966b",
   "metadata": {},
   "outputs": [],
   "source": []
  },
  {
   "cell_type": "code",
   "execution_count": 245,
   "id": "9fb654a7-814d-4316-8537-ef3eb58e8be0",
   "metadata": {},
   "outputs": [
    {
     "name": "stdout",
     "output_type": "stream",
     "text": [
      "Data size: 373\n",
      "Train set size: 238\n",
      "Validation set size: 60\n",
      "Test set size: 75\n",
      "Epoch 1/10\n",
      "12/12 [==============================] - 2s 48ms/step - loss: 0.8223 - accuracy: 0.4034 - val_loss: 0.6894 - val_accuracy: 0.5833\n",
      "Epoch 2/10\n",
      "12/12 [==============================] - 0s 11ms/step - loss: 0.7246 - accuracy: 0.5210 - val_loss: 0.6336 - val_accuracy: 0.6333\n",
      "Epoch 3/10\n",
      "12/12 [==============================] - 0s 12ms/step - loss: 0.6524 - accuracy: 0.6471 - val_loss: 0.6014 - val_accuracy: 0.7333\n",
      "Epoch 4/10\n",
      "12/12 [==============================] - 0s 12ms/step - loss: 0.6162 - accuracy: 0.6933 - val_loss: 0.5790 - val_accuracy: 0.7500\n",
      "Epoch 5/10\n",
      "12/12 [==============================] - 0s 10ms/step - loss: 0.5858 - accuracy: 0.7521 - val_loss: 0.5693 - val_accuracy: 0.7667\n",
      "Epoch 6/10\n",
      "12/12 [==============================] - 0s 11ms/step - loss: 0.5670 - accuracy: 0.7605 - val_loss: 0.5617 - val_accuracy: 0.7667\n",
      "Epoch 7/10\n",
      "12/12 [==============================] - 0s 9ms/step - loss: 0.5533 - accuracy: 0.7605 - val_loss: 0.5576 - val_accuracy: 0.7667\n",
      "Epoch 8/10\n",
      "12/12 [==============================] - 0s 10ms/step - loss: 0.5420 - accuracy: 0.7647 - val_loss: 0.5538 - val_accuracy: 0.7667\n",
      "Epoch 9/10\n",
      "12/12 [==============================] - 0s 12ms/step - loss: 0.5329 - accuracy: 0.7647 - val_loss: 0.5532 - val_accuracy: 0.7667\n",
      "Epoch 10/10\n",
      "12/12 [==============================] - 0s 12ms/step - loss: 0.5251 - accuracy: 0.7647 - val_loss: 0.5512 - val_accuracy: 0.7667\n",
      "WARNING:tensorflow:5 out of the last 13 calls to <function Model.make_predict_function.<locals>.predict_function at 0x0000022B6B1689D0> triggered tf.function retracing. Tracing is expensive and the excessive number of tracings could be due to (1) creating @tf.function repeatedly in a loop, (2) passing tensors with different shapes, (3) passing Python objects instead of tensors. For (1), please define your @tf.function outside of the loop. For (2), @tf.function has reduce_retracing=True option that can avoid unnecessary retracing. For (3), please refer to https://www.tensorflow.org/guide/function#controlling_retracing and https://www.tensorflow.org/api_docs/python/tf/function for  more details.\n",
      "3/3 [==============================] - 0s 10ms/step\n",
      "Accuracy on the test set: 0.7466666666666667\n"
     ]
    }
   ],
   "source": [
    "#epochs=24\n",
    "\n",
    "columns_to_encode = ['Gender', 'Condition', 'status']\n",
    "df_for_model2 = pd.get_dummies(df_for_model2, columns=columns_to_encode)\n",
    "\n",
    "y = df_for_model2['Finished']\n",
    "X = df_for_model2.drop(columns=['Finished'], inplace=False)\n",
    "\n",
    "# Split the data into training and testing sets\n",
    "X_train_val, X_test, y_train_val, y_test = train_test_split(X, y, test_size=0.2, random_state=40)\n",
    "X_train, X_val, y_train, y_val = train_test_split(X_train_val, y_train_val, test_size=0.2, random_state=40)\n",
    "\n",
    "print(\"Data size:\", len(df_for_model))\n",
    "print(f\"Train set size: {len(X_train)}\")\n",
    "print(f\"Validation set size: {len(X_val)}\")\n",
    "print(f\"Test set size: {len(X_test)}\")\n",
    "\n",
    "# Standardize the data\n",
    "scaler = StandardScaler()\n",
    "X_train_scaled = scaler.fit_transform(X_train)\n",
    "X_val_scaled = scaler.transform(X_val)\n",
    "X_test_scaled = scaler.transform(X_test)\n",
    "\n",
    "# Build a simple neural network model\n",
    "model = Sequential([\n",
    "    Dense(32, activation='relu', input_shape=(X_train_scaled.shape[1],)),\n",
    "    Dense(20, activation='relu'),\n",
    "    Dense(1, activation='sigmoid')  # Binary classification output layer\n",
    "])\n",
    "\n",
    "# Compile the model\n",
    "model.compile(optimizer='adam', loss='binary_crossentropy', metrics=['accuracy'])\n",
    "\n",
    "# Train the model\n",
    "history1=model.fit(X_train_scaled, y_train, epochs=10, batch_size=20, validation_data=(X_val_scaled, y_val))\n",
    "\n",
    "# Evaluate the model on the test set\n",
    "y_pred = (model.predict(X_test_scaled) > 0.5).astype(int).flatten()\n",
    "accuracy = accuracy_score(y_test, y_pred)\n",
    "print(f\"Accuracy on the test set: {accuracy}\")"
   ]
  },
  {
   "cell_type": "code",
   "execution_count": 246,
   "id": "b31ee3a5-0dd9-43e1-af27-19e30ab3a16e",
   "metadata": {},
   "outputs": [
    {
     "data": {
      "image/png": "[encoded data removed]",
      "text/plain": [
       "<Figure size 640x480 with 1 Axes>"
      ]
     },
     "metadata": {},
     "output_type": "display_data"
    }
   ],
   "source": [
    "accuracy = history1.history[\"accuracy\"]\n",
    "val_accuracy = history1.history[\"val_accuracy\"]\n",
    "epochs = range(1, len(accuracy) + 1)\n",
    "plt.figure()\n",
    "plt.plot(epochs, accuracy, \"bo\", label=\"Training accuracy\")\n",
    "plt.plot(epochs, val_accuracy, \"b\", label=\"Validation accuracy\")\n",
    "plt.title(\"Training and validation accuracy\")\n",
    "plt.xlabel(\"Epochs\") \n",
    "plt.ylabel(\"Accuracy\")\n",
    "plt.legend()\n",
    "plt.show()"
   ]
  },
  {
   "cell_type": "code",
   "execution_count": null,
   "id": "42a8d18a-7e13-4045-ad8b-a106d3a692d7",
   "metadata": {},
   "outputs": [],
   "source": []
  }
 ],
 "metadata": {
  "kernelspec": {
   "display_name": "Python 3 (ipykernel)",
   "language": "python",
   "name": "python3"
  },
  "language_info": {
   "codemirror_mode": {
    "name": "ipython",
    "version": 3
   },
   "file_extension": ".py",
   "mimetype": "text/x-python",
   "name": "python",
   "nbconvert_exporter": "python",
   "pygments_lexer": "ipython3",
   "version": "3.10.9"
  }
 },
 "nbformat": 4,
 "nbformat_minor": 5
}
